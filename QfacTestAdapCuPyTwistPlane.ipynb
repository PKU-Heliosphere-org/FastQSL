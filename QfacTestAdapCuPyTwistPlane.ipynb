{
 "cells": [
  {
   "cell_type": "code",
   "execution_count": 1,
   "metadata": {},
   "outputs": [],
   "source": [
    "import numpy as np\n",
    "import scipy.io as sciIO\n",
    "import matplotlib.pyplot as plt\n",
    "import cupy,tqdm # CUDA interface for python\n",
    "%load_ext autoreload\n",
    "%autoreload 2\n",
    "%load_ext autotime\n",
    "import matplotlib as mpl\n",
    "mpl.rcParams['image.origin'] = 'lower'"
   ]
  },
  {
   "cell_type": "code",
   "execution_count": 2,
   "metadata": {},
   "outputs": [
    {
     "name": "stdout",
     "output_type": "stream",
     "text": [
      "dict_keys(['bx', 'by', 'bz', 'xreg_kt', 'yreg_kt', 'zreg_kt', 'resolution'])\n",
      "time: 187 ms\n"
     ]
    }
   ],
   "source": [
    "a = sciIO.readsav('../TD3.sav')\n",
    "print(a.keys())"
   ]
  },
  {
   "cell_type": "code",
   "execution_count": 3,
   "metadata": {},
   "outputs": [
    {
     "name": "stdout",
     "output_type": "stream",
     "text": [
      "time: 112 ms\n"
     ]
    }
   ],
   "source": [
    "# need to be transposed because of the storage toplogy\n",
    "Bx = np.transpose(a.bx,(2,1,0)).astype(np.float32)\n",
    "By = np.transpose(a.by,(2,1,0)).astype(np.float32)\n",
    "Bz = np.transpose(a.bz,(2,1,0)).astype(np.float32)\n",
    "(Bx_gpu,By_gpu,Bz_gpu) = [np.zeros(0) for _ in range(3)]; flag_init=False\n",
    "#plt.imshow(Bz[:,:,50].T) "
   ]
  },
  {
   "cell_type": "code",
   "execution_count": 4,
   "metadata": {},
   "outputs": [
    {
     "name": "stdout",
     "output_type": "stream",
     "text": [
      "compiling kernel\n",
      "transfering B-field to GPU\n",
      "time: 4.62 s\n"
     ]
    }
   ],
   "source": [
    "import os\n",
    "print('compiling kernel')\n",
    "PWD = os.getcwd()\n",
    "traceFunc_file = open(\"TraceBlineAdaptive.cu\", \"rt\")\n",
    "TraceFunc =cupy.RawModule(code=traceFunc_file.read(),backend='nvcc',options=(\"-I \"+PWD,))#, include_dirs=[PWD], cache_dir='cache',no_extern_c=True)\n",
    "TraceAllBline = TraceFunc.get_function(\"TraceAllBline\")\n",
    "\n",
    "if Bx_gpu.shape[0]<=1:\n",
    "    print('transfering B-field to GPU')\n",
    "    Bx_gpu = cupy.array(Bx)\n",
    "    By_gpu = cupy.array(By)\n",
    "    Bz_gpu = cupy.array(Bz)\n",
    "\n",
    "dummy=cupy.zeros([1,1],dtype=cupy.float32)\n",
    "dummy64=cupy.zeros([1,1],dtype=cupy.float64)\n",
    "flag_twist=cupy.array([True],dtype=cupy.bool_)\n",
    "flag_twist_false=cupy.array([False],dtype=cupy.bool_)"
   ]
  },
  {
   "cell_type": "code",
   "execution_count": 5,
   "metadata": {},
   "outputs": [
    {
     "name": "stdout",
     "output_type": "stream",
     "text": [
      "time: 403 ms\n"
     ]
    }
   ],
   "source": [
    "# calc curl(B)\n",
    "curBx_gpu = cupy.zeros_like(Bx_gpu)\n",
    "curBy_gpu = cupy.zeros_like(By_gpu)\n",
    "curBz_gpu = cupy.zeros_like(Bz_gpu)\n",
    "\n",
    "curBx_gpu[:,1:-1,1:-1] = ((Bz_gpu[:,2:,  1:-1]-Bz_gpu[:,0:-2,1:-1])/2.\n",
    "                         -(By_gpu[:,1:-1,2:]-  By_gpu[:,1:-1,0:-2])/2)\n",
    "curBy_gpu[1:-1,:,1:-1] = ((Bx_gpu[1:-1,:,2:]-  Bx_gpu[1:-1,:,0:-2])/2.\n",
    "                         -(Bz_gpu[2:,  :,1:-1]-Bz_gpu[0:-2,:,1:-1])/2)\n",
    "curBz_gpu[1:-1,1:-1,:] = ((By_gpu[2:,  1:-1,:]-By_gpu[0:-2,1:-1,:])/2.\n",
    "                         -(Bx_gpu[1:-1,2:,  :]-Bx_gpu[1:-1,0:-2,:])/2)\n",
    "\n",
    "# take care of z=0\n",
    "curBx_gpu[1:-1,1:-1,0] = ((Bz_gpu[1:-1,2:,  0]-Bz_gpu[1:-1,0:-2,0])/2.\n",
    "                         -(-3.*By_gpu[1:-1,1:-1,0]+4.*By_gpu[1:-1,1:-1,1]-By_gpu[1:-1,1:-1,2])/2)\n",
    "curBy_gpu[1:-1,1:-1,0] = ((-3.*Bx_gpu[1:-1,1:-1,0]+4.*Bx_gpu[1:-1,1:-1,1]-Bx_gpu[1:-1,1:-1,2])/2.\n",
    "                         -(Bz_gpu[2:,  1:-1,0]-Bz_gpu[0:-2,1:-1,0])/2)"
   ]
  },
  {
   "cell_type": "code",
   "execution_count": 6,
   "metadata": {},
   "outputs": [
    {
     "data": {
      "text/plain": [
       "<matplotlib.image.AxesImage at 0x1b1b8ec4f40>"
      ]
     },
     "execution_count": 6,
     "metadata": {},
     "output_type": "execute_result"
    },
    {
     "data": {
      "image/png": "[encoded data removed]",
      "text/plain": [
       "<Figure size 1080x720 with 1 Axes>"
      ]
     },
     "metadata": {
      "needs_background": "light"
     },
     "output_type": "display_data"
    },
    {
     "name": "stdout",
     "output_type": "stream",
     "text": [
      "time: 327 ms\n"
     ]
    }
   ],
   "source": [
    "\n",
    "fig=plt.figure(2,dpi=180); ax = plt.gca() \n",
    "plt.imshow(curBz_gpu[:,:,12].get().T,origin='lower')#,vmax=.2,vmin=-.2,cmap='bwr')\n",
    "#plt.colorbar()\n",
    "#plt.xlim([100,400])\n",
    "#plt.ylim([0,100])"
   ]
  },
  {
   "cell_type": "code",
   "execution_count": 7,
   "metadata": {},
   "outputs": [
    {
     "data": {
      "text/plain": [
       "(301, 301, 251)"
      ]
     },
     "execution_count": 7,
     "metadata": {},
     "output_type": "execute_result"
    },
    {
     "name": "stdout",
     "output_type": "stream",
     "text": [
      "time: 2 ms\n"
     ]
    }
   ],
   "source": [
    "curBx_gpu.shape"
   ]
  },
  {
   "cell_type": "code",
   "execution_count": 19,
   "metadata": {},
   "outputs": [
    {
     "name": "stdout",
     "output_type": "stream",
     "text": [
      "[301 301 251]\n",
      "time: 36 ms\n"
     ]
    }
   ],
   "source": [
    "# prepare variables\n",
    "import cupy.linalg as LA\n",
    "BshapeN = np.zeros(3,dtype=np.int32)\n",
    "BshapeN[:] = Bx.shape\n",
    "print(BshapeN)\n",
    "BshapeN = cupy.array(BshapeN)\n",
    "\n",
    "interp_ratio=1\n",
    "stride_step=1/interp_ratio\n",
    "\n",
    "#A = cupy.array([350, 200,  5],dtype=cupy.float32)\n",
    "#B = cupy.array([670, 200,  5],dtype=cupy.float32)\n",
    "#C = cupy.array([350, 400,  5],dtype=cupy.float32)\n",
    "\n",
    "A = cupy.array([ 0,150,  0],dtype=cupy.float32)\n",
    "B = cupy.array([ 300,150,  0],dtype=cupy.float32)\n",
    "C = cupy.array([ 0,150,  50],dtype=cupy.float32)\n",
    "\n",
    "x_range = [150,350]\n",
    "y_range = [0,300]\n",
    "z_range = [0,150]\n",
    "y_i = cupy.linspace(*y_range, np.uint(interp_ratio*(y_range[1]-y_range[0])),dtype=cupy.float32)\n",
    "\n",
    "CrossBC_dir = cupy.cross(B-A,C-A)/LA.norm(cupy.cross(B-A,C-A))\n",
    "z0_dir = cupy.array([0,0,1],dtype=cupy.float32)\n",
    "\n",
    "if LA.norm((A-B)*(A-C))<1e-9: # orthogonal check\n",
    "\n",
    "    n = cupy.arange(LA.norm(A-B)*interp_ratio,dtype=cupy.float32) \n",
    "    m = cupy.arange(LA.norm(A-C)*interp_ratio,dtype=cupy.float32)\n",
    "    \n",
    "    n=n/cupy.max(n)\n",
    "    m=m/cupy.max(m)\n",
    "\n",
    "    N,M = cupy.meshgrid(n,m,indexing='ij')\n",
    "    \n",
    "    x_arr = A[0]+(B-A)[0]*N+(C-A)[0]*M\n",
    "    y_arr = A[1]+(B-A)[1]*N+(C-A)[1]*M\n",
    "    z_arr = A[2]+(B-A)[2]*N+(C-A)[2]*M\n",
    "   \n",
    "    xy_shape = x_arr.shape\n",
    "    \n",
    "    x_inp = x_arr.flatten()\n",
    "    y_inp = y_arr.flatten()\n",
    "    z_inp = z_arr.flatten()\n",
    "    \n",
    "    line_len = cupy.zeros(x_inp.shape,cupy.float64)\n",
    "    N        = cupy.array([x_inp.shape[0]],cupy.ulonglong)\n",
    "    s_len    = cupy.array([1./8.],cupy.float32)\n",
    "    tol_coef    = cupy.array([0.0001],cupy.float32)\n",
    "\n",
    "    (x_start,y_start,z_start, x_end,y_end,z_end,\n",
    "     Bx_start,By_start,Bz_start,Bx_end,By_end,Bz_end, Bx_inp,By_inp,Bz_inp\n",
    "    )=[cupy.zeros(x_inp.shape,dtype=cupy.float32) for _ in range(15)]\n",
    "\n",
    "    (B_flag,flag_start,flag_end\n",
    "    )=[cupy.zeros(x_inp.shape,dtype=cupy.int32) for _ in range(3)]\n",
    "    \n",
    "    twist_all = cupy.zeros(x_inp.shape,cupy.float64)\n",
    "    \n",
    "    # for GTX 1060\n",
    "    #blck=(64,1,1)\n",
    "    #grd = (20,1)\n",
    "\n",
    "    # for GTX1080ti\n",
    "    blck=(128,1,1)\n",
    "    grd = (28,1)\n",
    "    cupy.cuda.stream.get_current_stream().synchronize()\n",
    "else:\n",
    "    print('Init vec not orthogonal')"
   ]
  },
  {
   "cell_type": "code",
   "execution_count": 20,
   "metadata": {},
   "outputs": [
    {
     "name": "stdout",
     "output_type": "stream",
     "text": [
      "(300, 300, 50)\n",
      "time: 9 ms\n"
     ]
    }
   ],
   "source": [
    "import FastQSL\n",
    "Qube =np.zeros([xy_shape[0],y_i.shape[0],xy_shape[1]],dtype=np.float32)\n",
    "Twube=np.zeros([xy_shape[0],y_i.shape[0],xy_shape[1]],dtype=np.float32)\n",
    "Liube=np.zeros([xy_shape[0],y_i.shape[0],xy_shape[1]],dtype=np.float32)\n",
    "#z_i=z_i*0+20\n",
    "print(Qube.shape)"
   ]
  },
  {
   "cell_type": "code",
   "execution_count": 22,
   "metadata": {},
   "outputs": [
    {
     "name": "stderr",
     "output_type": "stream",
     "text": [
      "49it [02:38,  3.23s/it]\n"
     ]
    },
    {
     "ename": "KeyboardInterrupt",
     "evalue": "",
     "output_type": "error",
     "traceback": [
      "\u001b[1;31m---------------------------------------------------------------------------\u001b[0m",
      "\u001b[1;31mKeyboardInterrupt\u001b[0m                         Traceback (most recent call last)",
      "\u001b[1;32m<ipython-input-22-b39a84a23130>\u001b[0m in \u001b[0;36m<module>\u001b[1;34m\u001b[0m\n\u001b[0;32m     25\u001b[0m                 s_len,N,line_len, tol_coef))\n\u001b[0;32m     26\u001b[0m \u001b[1;33m\u001b[0m\u001b[0m\n\u001b[1;32m---> 27\u001b[1;33m     \u001b[0mcupy\u001b[0m\u001b[1;33m.\u001b[0m\u001b[0mcuda\u001b[0m\u001b[1;33m.\u001b[0m\u001b[0mstream\u001b[0m\u001b[1;33m.\u001b[0m\u001b[0mget_current_stream\u001b[0m\u001b[1;33m(\u001b[0m\u001b[1;33m)\u001b[0m\u001b[1;33m.\u001b[0m\u001b[0msynchronize\u001b[0m\u001b[1;33m(\u001b[0m\u001b[1;33m)\u001b[0m\u001b[1;33m\u001b[0m\u001b[1;33m\u001b[0m\u001b[0m\n\u001b[0m\u001b[0;32m     28\u001b[0m     (x_end_arr,   y_end_arr,  z_end_arr,   flag_end_arr,\n\u001b[0;32m     29\u001b[0m          \u001b[0mx_start_arr\u001b[0m\u001b[1;33m,\u001b[0m \u001b[0my_start_arr\u001b[0m\u001b[1;33m,\u001b[0m\u001b[0mz_start_arr\u001b[0m\u001b[1;33m,\u001b[0m \u001b[0mflag_start_arr\u001b[0m\u001b[1;33m,\u001b[0m\u001b[1;33m\u001b[0m\u001b[1;33m\u001b[0m\u001b[0m\n",
      "\u001b[1;31mKeyboardInterrupt\u001b[0m: "
     ]
    },
    {
     "name": "stdout",
     "output_type": "stream",
     "text": [
      "time: 2min 38s\n"
     ]
    }
   ],
   "source": [
    "pinned_mempool = cupy.get_default_pinned_memory_pool()\n",
    "for idx_pos_y,y_pos in tqdm.tqdm(enumerate(y_i)):\n",
    "    \n",
    "    (x_start,y_start,z_start, x_end,y_end,z_end,\n",
    "         Bx_start,By_start,Bz_start,Bx_end,By_end,Bz_end, Bx_inp,By_inp,Bz_inp\n",
    "        )=[cupy.zeros(x_inp.shape,dtype=cupy.float32) for _ in range(15)]\n",
    "    (B_flag,flag_start,flag_end)=[cupy.zeros(x_inp.shape,dtype=cupy.int32) for _ in range(3)]\n",
    "    \n",
    "    \n",
    "    x_inp = x_arr.flatten()\n",
    "    y_inp = (cupy.zeros_like(x_inp,cupy.float32)+y_pos)\n",
    "    z_inp = z_arr.flatten()\n",
    "    \n",
    "    cupy.cuda.stream.get_current_stream().synchronize()\n",
    "    # run the big calclation\n",
    "    TraceAllBline(blck,grd,\n",
    "                (Bx_gpu, By_gpu,   Bz_gpu,BshapeN,\n",
    "                curBx_gpu,curBy_gpu,curBz_gpu,twist_all,flag_twist,\n",
    "                x_inp,   y_inp,   z_inp,CrossBC_dir,\n",
    "                x_start, y_start, z_start, flag_start,\n",
    "                x_end,   y_end,   z_end,   flag_end,\n",
    "                Bx_inp,  By_inp,  Bz_inp,  B_flag,\n",
    "                Bx_start,By_start,Bz_start,\n",
    "                Bx_end,  By_end,  Bz_end,  \n",
    "                s_len,N,line_len, tol_coef))\n",
    "\n",
    "    cupy.cuda.stream.get_current_stream().synchronize()\n",
    "    (x_end_arr,   y_end_arr,  z_end_arr,   flag_end_arr,\n",
    "         x_start_arr, y_start_arr,z_start_arr, flag_start_arr,\n",
    "         Bx_in_arr,   By_in_arr,  Bz_in_arr,\n",
    "         Bx_out_arr,  By_out_arr, Bz_out_arr,\n",
    "         Bx_0_arr,    By_0_arr,   Bz_0_arr,   B_flag_arr, twist_all_arr,\n",
    "         line_len_arr) = FastQSL.ResReshape(xy_shape,\n",
    "                        x_end,y_end,z_end,flag_end,\n",
    "                        x_start,y_start,z_start,flag_start,\n",
    "                        Bx_start,By_start,Bz_start,\n",
    "                        Bx_end,By_end,Bz_end, \n",
    "                        Bx_inp,By_inp,Bz_inp,B_flag,twist_all,line_len)\n",
    "\n",
    "    Q=FastQSL.QCalcPlane(x_end_arr,   y_end_arr,  z_end_arr,   flag_end_arr,\n",
    "             x_start_arr, y_start_arr,z_start_arr, flag_start_arr,\n",
    "             Bx_in_arr,   By_in_arr,  Bz_in_arr,\n",
    "             Bx_out_arr,  By_out_arr, Bz_out_arr,\n",
    "             Bx_0_arr,    By_0_arr,   Bz_0_arr,    \n",
    "             B_flag_arr, stride_step)\n",
    "    stride_this  =  cupy.float32(1./interp_ratio)/8\n",
    "\n",
    "    (cut_inp_x,   cut_inp_y,   cut_inp_z,\n",
    "    cut_start_x, cut_start_y, cut_start_z,flag_cut_start,\n",
    "    cut_end_x,   cut_end_y,   cut_end_z,  flag_cut_end,\n",
    "    Bx_inp_cut,  By_inp_cut,  Bz_inp_cut,  B_flag_cut,\n",
    "    Bx_start_cut,By_start_cut,Bz_start_cut,\n",
    "    Bx_end_cut,  By_end_cut,  Bz_end_cut,  \n",
    "    N_cut,line_len_cut,Bz0_start, Bz0_end)=FastQSL.CookPseudoLine(\n",
    "         x_end_arr,   y_end_arr,  z_end_arr,   flag_end_arr,\n",
    "         x_start_arr, y_start_arr,z_start_arr, flag_start_arr,\n",
    "         Bx_in_arr,   By_in_arr,  Bz_in_arr,\n",
    "         Bx_out_arr,  By_out_arr, Bz_out_arr,\n",
    "         Bz_0_arr,    B_flag_arr, stride_this)\n",
    "    \n",
    "    # run the psuedo correction\n",
    "    TraceAllBline(blck,grd,\n",
    "            (Bx_gpu, By_gpu,   Bz_gpu,BshapeN,\n",
    "              dummy,dummy,dummy,dummy,flag_twist_false,\n",
    "            cut_inp_x,   cut_inp_y,   cut_inp_z, z0_dir, # use z0 as norm\n",
    "            cut_start_x, cut_start_y, cut_start_z,flag_cut_start,\n",
    "            cut_end_x,   cut_end_y,   cut_end_z,  flag_cut_end,\n",
    "            Bx_inp_cut,  By_inp_cut,  Bz_inp_cut,  B_flag_cut,\n",
    "            Bx_start_cut,By_start_cut,Bz_start_cut,\n",
    "            Bx_end_cut,  By_end_cut,  Bz_end_cut,  \n",
    "            s_len,N_cut,line_len_cut, tol_coef*.1))\n",
    "\n",
    "    cupy.cuda.stream.get_current_stream().synchronize()    \n",
    "\n",
    "    (X1,Y1,X2,Y2) = [cupy.zeros(cut_inp_x.shape,dtype=cupy.float32) \n",
    "                     for _ in range(4)];\n",
    "\n",
    "    idx_Z1_cut=(flag_cut_start-1)//2 == 2;  idx_Z2_cut=(flag_cut_end-1)//2 == 2\n",
    "    idx_Y1_cut=(flag_cut_start-1)//2 == 1;  idx_Y2_cut=(flag_cut_end-1)//2 == 1\n",
    "    idx_X1_cut=(flag_cut_start-1)//2 == 0;  idx_X2_cut=(flag_cut_end-1)//2 == 0\n",
    "\n",
    "    # Z plane\n",
    "    X1[idx_Z1_cut] = cut_start_x[idx_Z1_cut]; Y1[idx_Z1_cut] = cut_start_y[idx_Z1_cut] \n",
    "    X2[idx_Z2_cut] = cut_end_x[idx_Z2_cut];   Y2[idx_Z2_cut] = cut_end_y[idx_Z2_cut] \n",
    "    # Y plane\n",
    "    X1[idx_Y1_cut] = cut_start_z[idx_Y1_cut]; Y1[idx_Y1_cut] = cut_start_x[idx_Y1_cut]\n",
    "    X2[idx_Y2_cut] = cut_end_z[idx_Y2_cut];   Y2[idx_Y2_cut] = cut_end_x[idx_Y2_cut]\n",
    "    # X plane\n",
    "    X1[idx_X1_cut] = cut_start_y[idx_X1_cut]; Y1[idx_X1_cut] = cut_start_z[idx_X1_cut]\n",
    "    X2[idx_X2_cut] = cut_end_y[idx_X2_cut];   Y2[idx_X2_cut] = cut_end_z[idx_X2_cut]\n",
    "\n",
    "    dx2xc = X2[0::4]-X2[2::4]; dx2yc = X2[1::4]-X2[3::4];\n",
    "    dy2xc = Y2[0::4]-Y2[2::4]; dy2yc = Y2[1::4]-Y2[3::4];\n",
    "\n",
    "    dx1xc = X1[0::4]-X1[2::4]; dx1yc = X1[1::4]-X1[3::4];\n",
    "    dy1xc = Y1[0::4]-Y1[2::4]; dy1yc = Y1[1::4]-Y1[3::4];\n",
    "\n",
    "    a_cut = (dx2xc*dy1yc-dx2yc*dy1xc);\n",
    "    b_cut = (dx2yc*dx1xc-dx2xc*dx1yc);\n",
    "    c_cut = (dy2xc*dy1yc-dy2yc*dy1xc);\n",
    "    d_cut = (dy2yc*dx1xc-dy2xc*dx1yc);\n",
    "\n",
    "    bnr_cut = cupy.abs(Bz0_end)/(cupy.abs(Bz0_start))*((1/stride_this/2)**4)\n",
    "    Qcut = (a_cut**2+b_cut**2+c_cut**2+d_cut**2)*bnr_cut\n",
    "    Qcut[cupy.where(Qcut<1.0)]=1.0\n",
    "\n",
    "    cupy.cuda.stream.get_current_stream().synchronize()\n",
    "\n",
    "    Q_all=cupy.zeros(x_end_arr.shape,dtype=cupy.float32)\n",
    "\n",
    "    Q_all[1:-1,1:-1]=Q\n",
    "    Q_all[B_flag_arr==1]=Qcut\n",
    "    Q_final=Q_all[1:-1,1:-1]\n",
    "\n",
    "    Qube[:,idx_pos_y,:]=Q_all.get()\n",
    "    Twube[:,idx_pos_y,:]=twist_all_arr.get()\n",
    "    Liube[:,idx_pos_y,:]=line_len_arr.get()\n",
    "    \n",
    "    cupy.cuda.stream.get_current_stream().synchronize()\n",
    "    \n",
    "    (x_start,y_start,z_start, x_end,y_end,z_end,z_inp,\n",
    "         Bx_start,By_start,Bz_start,Bx_end,By_end,Bz_end, Bx_inp,By_inp,Bz_inp\n",
    "        )=[None for _ in range(16)]\n",
    "    (B_flag,flag_start,flag_end)=[None for _ in range(3)]\n",
    "    pinned_mempool.free_all_blocks()"
   ]
  },
  {
   "cell_type": "code",
   "execution_count": 18,
   "metadata": {},
   "outputs": [
    {
     "name": "stdout",
     "output_type": "stream",
     "text": [
      "time: 63 ms\n"
     ]
    }
   ],
   "source": [
    "import plotly\n",
    "x_i_0 = np.linspace(*x_range, np.uint(interp_ratio*(x_range[1]-x_range[0])),dtype=np.float32)\n",
    "y_i_0 = np.linspace(*y_range, np.uint(interp_ratio*(y_range[1]-y_range[0])),dtype=np.float32)\n",
    "z_i_0 = np.linspace(*z_range, np.uint(interp_ratio*(z_range[1]-z_range[0])),dtype=np.float32)\n",
    "\n",
    "x_arr_0,y_arr_0,z_arr_0 = np.meshgrid(x_i_0, y_i_0, z_i_0)"
   ]
  },
  {
   "cell_type": "code",
   "execution_count": 19,
   "metadata": {},
   "outputs": [
    {
     "data": {
      "text/plain": [
       "(300, 300, 150)"
      ]
     },
     "execution_count": 19,
     "metadata": {},
     "output_type": "execute_result"
    },
    {
     "name": "stdout",
     "output_type": "stream",
     "text": [
      "time: 3 ms\n"
     ]
    }
   ],
   "source": [
    "Qube.shape"
   ]
  },
  {
   "cell_type": "code",
   "execution_count": 20,
   "metadata": {},
   "outputs": [
    {
     "name": "stdout",
     "output_type": "stream",
     "text": [
      "time: 2.1 s\n"
     ]
    }
   ],
   "source": [
    "from numpy import cos, pi, mgrid\n",
    "import pyvista as pv"
   ]
  },
  {
   "cell_type": "code",
   "execution_count": 25,
   "metadata": {},
   "outputs": [
    {
     "name": "stdout",
     "output_type": "stream",
     "text": [
      "time: 396 ms\n"
     ]
    }
   ],
   "source": [
    "np.savez('../Qube.npz', Qube,x_arr_0,y_arr_0,z_arr_0,Twube)"
   ]
  },
  {
   "cell_type": "code",
   "execution_count": null,
   "metadata": {},
   "outputs": [
    {
     "name": "stderr",
     "output_type": "stream",
     "text": [
      "ERROR:root:failed to get wglChoosePixelFormatARB\n",
      "ERROR:root:failed to get valid pixel format.\n",
      "ERROR:root:GLEW could not be initialized: Missing GL version\n"
     ]
    }
   ],
   "source": [
    "opacity = [ 0,0.2,0.4, 0.65, 0.8]\n",
    "clim = [0, 15]\n",
    "\n",
    "p = pv.Plotter()\n",
    "p.add_volume(-Twube, cmap=\"magma\", clim=clim,\n",
    "             opacity=opacity, opacity_unit_distance=2,)\n",
    "#p.camera_position = [(-800*2, 1200*2, 666*2),\n",
    "# (179.5, 299.5, 99.5),\n",
    "# (0.4, -0.1, 0.9)]\n",
    "p.show()"
   ]
  },
  {
   "cell_type": "code",
   "execution_count": 12,
   "metadata": {},
   "outputs": [
    {
     "data": {
      "text/plain": [
       "<matplotlib.colorbar.Colorbar at 0x1b1eb4dfd00>"
      ]
     },
     "execution_count": 12,
     "metadata": {},
     "output_type": "execute_result"
    },
    {
     "data": {
      "image/png": "[encoded data removed]",
      "text/plain": [
       "<Figure size 432x288 with 2 Axes>"
      ]
     },
     "metadata": {
      "needs_background": "light"
     },
     "output_type": "display_data"
    },
    {
     "name": "stdout",
     "output_type": "stream",
     "text": [
      "time: 207 ms\n"
     ]
    }
   ],
   "source": [
    "plt.imshow((Liube[:,100,:].T),origin='lower',vmax=2000)#,vmax=0.0001,vmin=-0.0001,cmap='bwr')\n",
    "plt.colorbar()"
   ]
  },
  {
   "cell_type": "code",
   "execution_count": 18,
   "metadata": {},
   "outputs": [
    {
     "name": "stderr",
     "output_type": "stream",
     "text": [
      "<ipython-input-18-84332f20505d>:5: RuntimeWarning: divide by zero encountered in log10\n",
      "  plt.imshow(np.log10(Qube[150,:,:].T),origin='lower',cmap='bwr',vmax=8,vmin=-8)\n"
     ]
    },
    {
     "data": {
      "text/plain": [
       "<matplotlib.colorbar.Colorbar at 0x1b2091440d0>"
      ]
     },
     "execution_count": 18,
     "metadata": {},
     "output_type": "execute_result"
    },
    {
     "data": {
      "image/png": "[encoded data removed]",
      "text/plain": [
       "<Figure size 1080x720 with 2 Axes>"
      ]
     },
     "metadata": {
      "needs_background": "light"
     },
     "output_type": "display_data"
    },
    {
     "name": "stdout",
     "output_type": "stream",
     "text": [
      "time: 307 ms\n"
     ]
    }
   ],
   "source": [
    "\n",
    "fig=plt.figure(2,dpi=180); ax = plt.gca() \n",
    "#plt.imshow((Twube[:,100,:].T),origin='lower',vmax=5,vmin=-5,cmap='bwr')\n",
    "\n",
    "#plt.imshow(np.log10(Qube[:,:,1].T)*np.sign(Bz_gpu[1:,1:,0].get().T),origin='lower',cmap='bwr',vmax=8,vmin=-8)\n",
    "plt.imshow(np.log10(Qube[150,:,:].T),origin='lower',cmap='bwr',vmax=8,vmin=-8)\n",
    "\n",
    "plt.colorbar()"
   ]
  },
  {
   "cell_type": "code",
   "execution_count": null,
   "metadata": {},
   "outputs": [],
   "source": []
  },
  {
   "cell_type": "code",
   "execution_count": null,
   "metadata": {},
   "outputs": [],
   "source": [
    "#%% Data\n",
    "grid = pv.StructuredGrid(x_arr_0.flatten(), y_arr_0.flatten(), z_arr_0.flatten())\n",
    "grid[\"vol\"] = Qube.flatten()\n",
    "contours = grid.contour([1000000])\n",
    "\n",
    "#%% Visualization\n",
    "pv.set_plot_theme('document')\n",
    "p = pv.Plotter()\n",
    "p.add_mesh(contours, scalars=contours.points[:, 2], show_scalar_bar=False)\n",
    "p.show()"
   ]
  },
  {
   "cell_type": "code",
   "execution_count": null,
   "metadata": {},
   "outputs": [],
   "source": [
    "plt.imshow()"
   ]
  },
  {
   "cell_type": "code",
   "execution_count": null,
   "metadata": {},
   "outputs": [],
   "source": [
    "plt.close()\n",
    "\n",
    "xxlim=None\n",
    "yylim=None\n",
    "\n",
    "#xxlim=[400,720]\n",
    "#yylim=[150,400]\n",
    "#xxlim=[550,650]\n",
    "#yylim=[200,270]\n",
    "#xxlim= [350,670]\n",
    "#yylim= [200,400]\n",
    "\n",
    "dpi=180\n",
    "\n",
    "fig=plt.figure(0,dpi=dpi); ax = plt.gca() \n",
    "img=ax.imshow(flag_start_arr.get(),cmap='inferno',origin='lower',vmin=0,\n",
    "              extent=[*x_range,*y_range],vmax=6)\n",
    "fig.colorbar(img)\n",
    "ax.set_title('flag')\n",
    "ax.set_xlim(xxlim)\n",
    "ax.set_ylim(yylim)\n",
    "\n",
    "fig=plt.figure(1,dpi=dpi); ax = plt.gca() \n",
    "img=ax.imshow((line_len.get().reshape(xy_shape)),cmap='inferno',origin='lower',\n",
    "              vmin=0,extent=[*x_range,*y_range],vmax=1000)\n",
    "fig.colorbar(img)\n",
    "ax.set_title('Length of B-line')\n",
    "ax.set_xlim(xxlim)\n",
    "ax.set_ylim(yylim)\n",
    "\n",
    "fig=plt.figure(2,dpi=dpi); ax = plt.gca() \n",
    "img=ax.imshow(Bz_in_arr.get()/Bz_out_arr.get(),cmap='gray',origin='lower',\n",
    "              vmax=10,vmin=-10,extent=[*x_range,*y_range])\n",
    "fig.colorbar(img)\n",
    "ax.set_title('Bz_arr_in')\n",
    "ax.set_xlim(xxlim)\n",
    "ax.set_ylim(yylim)\n",
    "\n",
    "fig=plt.figure(3,dpi=dpi); ax = plt.gca() \n",
    "img=ax.imshow(Bz_out_arr.get(),cmap='gray',origin='lower',vmax=1000,vmin=-1000,\n",
    "              extent=[*x_range,*y_range])\n",
    "fig.colorbar(img)\n",
    "ax.set_title('Bz_arr_out')\n",
    "ax.set_xlim(xxlim)\n",
    "ax.set_ylim(yylim)\n",
    "\n",
    "fig=plt.figure(4,dpi=dpi); ax = plt.gca() \n",
    "img = ax.imshow(np.log10(Q.get())*np.sign(Bz_0_arr.get()[1:-1,1:-1])\n",
    "                *(flag_start_arr.get()[1:-1,1:-1]<=6),\n",
    "                vmax=5,vmin=-5,cmap='bwr',origin='lower',\n",
    "                extent=[*x_range,*y_range])\n",
    "fig.colorbar(img)\n",
    "ax.set_title('Q-map')\n",
    "ax.set_xlim(xxlim)\n",
    "ax.set_ylim(yylim)\n",
    "\n",
    "\n",
    "fig=plt.figure(5,dpi=dpi); ax = plt.gca() \n",
    "img = ax.imshow(np.log10(Q.get())*np.sign(Bz_0_arr.get()[1:-1,1:-1])\n",
    "                *(flag_start_arr.get()[1:-1,1:-1]<=6),\n",
    "                vmax=5,vmin=-5,cmap='bwr',origin='lower',\n",
    "                extent=[*x_range,*y_range])\n",
    "fig.colorbar(img)\n",
    "ax.set_title('Q-map')\n",
    "ax.set_xlim(xxlim)\n",
    "ax.set_ylim(yylim)\n",
    "\n",
    "fig=plt.figure(6,dpi=dpi); ax = plt.gca() \n",
    "img = ax.imshow(np.log10(Q_all.get())*(flag_start_arr.get()[1:-1,1:-1]<41),\n",
    "                vmax=5,vmin=0,cmap='gray_r',origin='lower',extent=[*x_range,*y_range])\n",
    "fig.colorbar(img)\n",
    "ax.set_title('Q-map-gray')\n",
    "ax.set_xlim(xxlim)\n",
    "ax.set_ylim(yylim)\n"
   ]
  },
  {
   "cell_type": "code",
   "execution_count": null,
   "metadata": {},
   "outputs": [],
   "source": []
  },
  {
   "cell_type": "code",
   "execution_count": null,
   "metadata": {},
   "outputs": [],
   "source": [
    "fig=plt.figure(1,dpi=180); ax = plt.gca() \n",
    "#img = ax.imshow(np.log((b.get())**2),cmap='inferno',origin='lower',extent=[*x_range,*y_range])\n",
    "#fig.colorbar(img)\n",
    "ax.set_title('abcd')\n",
    "ax.set_xlim(xxlim)\n",
    "ax.set_ylim(yylim)\n",
    "\n",
    "fig=plt.figure(3,dpi=180); ax = plt.gca() \n",
    "img = ax.imshow((B_flag_arr.get()),cmap='inferno',origin='lower',extent=[*x_range,*y_range])\n",
    "fig.colorbar(img)\n",
    "ax.set_title('abcd')\n",
    "ax.set_xlim(xxlim)\n",
    "ax.set_ylim(yylim)\n"
   ]
  },
  {
   "cell_type": "code",
   "execution_count": null,
   "metadata": {},
   "outputs": [],
   "source": []
  },
  {
   "cell_type": "code",
   "execution_count": null,
   "metadata": {},
   "outputs": [],
   "source": []
  },
  {
   "cell_type": "code",
   "execution_count": null,
   "metadata": {},
   "outputs": [],
   "source": []
  }
 ],
 "metadata": {
  "kernelspec": {
   "display_name": "Python 3",
   "language": "python",
   "name": "python3"
  },
  "language_info": {
   "codemirror_mode": {
    "name": "ipython",
    "version": 3
   },
   "file_extension": ".py",
   "mimetype": "text/x-python",
   "name": "python",
   "nbconvert_exporter": "python",
   "pygments_lexer": "ipython3",
   "version": "3.7.4"
  }
 },
 "nbformat": 4,
 "nbformat_minor": 4
}
