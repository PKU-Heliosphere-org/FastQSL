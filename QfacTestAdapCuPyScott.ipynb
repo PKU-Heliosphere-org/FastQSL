{
 "cells": [
  {
   "cell_type": "code",
   "execution_count": 1,
   "metadata": {},
   "outputs": [
    {
     "name": "stdout",
     "output_type": "stream",
     "text": [
      "time: 1.11 s (started: 2021-10-20 18:05:16 +08:00)\n"
     ]
    }
   ],
   "source": [
    "import numpy as np\n",
    "import scipy.io as sciIO\n",
    "import matplotlib.pyplot as plt\n",
    "import cupy # CUDA interface for python\n",
    "%load_ext autoreload\n",
    "%autoreload 2\n",
    "%load_ext autotime\n",
    "import FastQSL"
   ]
  },
  {
   "cell_type": "code",
   "execution_count": 2,
   "metadata": {},
   "outputs": [
    {
     "data": {
      "text/plain": [
       "'9.5.0'"
      ]
     },
     "execution_count": 2,
     "metadata": {},
     "output_type": "execute_result"
    },
    {
     "name": "stdout",
     "output_type": "stream",
     "text": [
      "time: 0 ns (started: 2021-10-20 18:05:17 +08:00)\n"
     ]
    }
   ],
   "source": [
    "cupy.__version__"
   ]
  },
  {
   "cell_type": "code",
   "execution_count": 3,
   "metadata": {},
   "outputs": [
    {
     "name": "stderr",
     "output_type": "stream",
     "text": [
      "C:\\Users\\Pjer1\\Anaconda3\\envs\\fastqsl\\lib\\site-packages\\scipy\\io\\idl.py:465: UserWarning: Using experimental 64-bit array read\n",
      "  warnings.warn(\"Using experimental 64-bit array read\")\n"
     ]
    },
    {
     "name": "stdout",
     "output_type": "stream",
     "text": [
      "dict_keys(['twbox'])\n",
      "time: 20 s (started: 2021-10-20 18:05:17 +08:00)\n"
     ]
    }
   ],
   "source": [
    "a = sciIO.readsav('../B0.sav')\n",
    "print(a.keys())"
   ]
  },
  {
   "cell_type": "code",
   "execution_count": 4,
   "metadata": {},
   "outputs": [
    {
     "name": "stdout",
     "output_type": "stream",
     "text": [
      "time: 1.47 s (started: 2021-10-20 18:05:37 +08:00)\n"
     ]
    }
   ],
   "source": [
    "# need to be transposed because of the storage toplogy\n",
    "Bx = np.transpose(a.twbox[0].bx,(2,1,0)).astype(np.float32)\n",
    "By = np.transpose(a.twbox[0].by,(2,1,0)).astype(np.float32)\n",
    "Bz = np.transpose(a.twbox[0].bz,(2,1,0)).astype(np.float32)\n",
    "(Bx_gpu,By_gpu,Bz_gpu) = [np.zeros(0) for _ in range(3)]; flag_init=False"
   ]
  },
  {
   "cell_type": "code",
   "execution_count": 5,
   "metadata": {},
   "outputs": [
    {
     "name": "stdout",
     "output_type": "stream",
     "text": [
      "compiling kernel\n",
      "transfering B-field to GPU\n",
      "time: 18.6 s (started: 2021-10-20 18:05:39 +08:00)\n"
     ]
    }
   ],
   "source": [
    "import numpy\n",
    "import os\n",
    "\n",
    "print('compiling kernel')\n",
    "PWD = os.getcwd()\n",
    "traceFunc_file = open(\"TraceBlineScott.cu\", \"rt\")\n",
    "TraceFunc =cupy.RawModule(code=traceFunc_file.read(),backend='nvcc',options=(\"-I \"+PWD,))#, include_dirs=[PWD], cache_dir='cache',no_extern_c=True)\n",
    "TraceAllBline = TraceFunc.get_function(\"TraceAllBline\")\n",
    "#print('kernel compiled')\n",
    "\n",
    "if Bx_gpu.shape[0]<=1:\n",
    "    print('transfering B-field to GPU')\n",
    "    Bx_gpu = cupy.array(Bx)\n",
    "    By_gpu = cupy.array(By)\n",
    "    Bz_gpu = cupy.array(Bz)\n",
    "    \n",
    "dummy=cupy.zeros([1,1],dtype=cupy.float32)\n",
    "flag_twist=cupy.array([False],dtype=cupy.bool_)"
   ]
  },
  {
   "cell_type": "code",
   "execution_count": 14,
   "metadata": {},
   "outputs": [
    {
     "name": "stdout",
     "output_type": "stream",
     "text": [
      "time: 16 ms (started: 2021-10-20 18:10:27 +08:00)\n"
     ]
    }
   ],
   "source": [
    "# prepare variables\n",
    "BshapeN = np.zeros(3,dtype=np.int32)\n",
    "BshapeN[:] = Bx.shape\n",
    "BshapeN = cupy.array(BshapeN)\n",
    "\n",
    "interp_ratio=4\n",
    "stride_step=1/interp_ratio\n",
    "# full image\n",
    "x_range = [0,1163]\n",
    "y_range = [0,487]\n",
    "# active region\n",
    "x_range = [350,670]\n",
    "y_range = [180,430]\n",
    "\n",
    "x_i = cupy.linspace(*x_range, np.uint(interp_ratio*(x_range[1]-x_range[0])),dtype=cupy.float32)\n",
    "y_i = cupy.linspace(*y_range, np.uint(interp_ratio*(y_range[1]-y_range[0])),dtype=cupy.float32)\n",
    "x_arr,y_arr = cupy.meshgrid(x_i, y_i)\n",
    "\n",
    "xy_shape = x_arr.shape\n",
    "\n",
    "x_inp = x_arr.flatten()\n",
    "y_inp = y_arr.flatten()\n",
    "z_inp = (cupy.zeros_like(x_inp,cupy.float32)+0.1# +23.583333\n",
    ")\n",
    "#z_inp[:] = +23.583333\n",
    "\n",
    "if not flag_init:\n",
    "    (x_start,y_start,z_start, x_end,y_end,z_end,\n",
    "    Bx_inp,By_inp,Bz_inp,q_0_gpu,q_perp_gpu\n",
    "    )=[cupy.zeros(x_inp.shape,dtype=cupy.float32) for _ in range(11)]\n",
    "    (flag_start,flag_end)=[cupy.zeros(x_inp.shape,dtype=cupy.int32) for _ in range(2)]\n",
    "    \n",
    "    flag_init=True\n",
    "\n",
    "line_len = cupy.zeros(x_inp.shape,cupy.float64)\n",
    "N        = cupy.array([x_inp.shape[0]],cupy.ulonglong)\n",
    "s_len    = cupy.array([1./8.],cupy.float32)\n",
    "tol_coef = cupy.array([1.],cupy.float32)\n",
    "\n",
    "\n",
    "inp_norm = cupy.array([0,0,1.],cupy.float32)\n",
    "\n",
    "# for GTX 1060\n",
    "# blck=(64,1,1)\n",
    "# grd = (20,1)\n",
    "\n",
    "# for GTX1080ti\n",
    "blck=(128,1,1)\n",
    "grd = (28,1)\n",
    "cupy.cuda.stream.get_current_stream().synchronize()"
   ]
  },
  {
   "cell_type": "code",
   "execution_count": 15,
   "metadata": {},
   "outputs": [
    {
     "name": "stdout",
     "output_type": "stream",
     "text": [
      "time: 0 ns (started: 2021-10-20 18:10:28 +08:00)\n"
     ]
    }
   ],
   "source": [
    "tol_coef_arr = cupy.array([10**2,10**1.5,10**1.0,10**0.5],dtype=cupy.float32)\n",
    "#tol_coef_arr = cupy.array([1],dtype=cupy.float32)\n",
    "Qall_arr=cupy.zeros([*xy_shape,tol_coef_arr.shape[0]],dtype=cupy.float32)"
   ]
  },
  {
   "cell_type": "code",
   "execution_count": 16,
   "metadata": {},
   "outputs": [
    {
     "name": "stdout",
     "output_type": "stream",
     "text": [
      "[350.      350.25018 350.5004  ... 669.49963 669.7498  670.     ]\n",
      "time: 1.83 s (started: 2021-10-20 18:10:28 +08:00)\n"
     ]
    }
   ],
   "source": [
    "import tqdm\n",
    "#for idx_tol,real_tol in tqdm.tqdm(enumerate(tol_coef_arr)):\n",
    "\n",
    "real_tol=tol_coef_arr[3]\n",
    "if True:\n",
    "    \n",
    "    (x_start,y_start,z_start, x_end,y_end,z_end,\n",
    "    Bx_inp,By_inp,Bz_inp,q_0_gpu,q_perp_gpu\n",
    "    )=[cupy.zeros(x_inp.shape,dtype=cupy.float32) for _ in range(11)]\n",
    "    (flag_start,flag_end)=[cupy.zeros(x_inp.shape,dtype=cupy.int32) for _ in range(2)]\n",
    "    \n",
    "    \n",
    "    x_inp = x_arr.flatten()\n",
    "    y_inp = y_arr.flatten()\n",
    "    z_inp = (cupy.zeros_like(x_inp,cupy.float32))\n",
    "    # run the big calclation\n",
    "    TraceAllBline(blck,grd,\n",
    "                (Bx_gpu, By_gpu,   Bz_gpu,BshapeN,\n",
    "                  dummy,dummy,dummy,dummy,flag_twist,\n",
    "                x_inp,   y_inp,   z_inp,inp_norm,\n",
    "                x_start, y_start, z_start, flag_start,\n",
    "                x_end,   y_end,   z_end,   flag_end,\n",
    "                Bx_inp,  By_inp,  Bz_inp,\n",
    "                q_0_gpu,q_perp_gpu,\n",
    "                s_len,N,line_len, real_tol))\n",
    "    print(x_end)\n",
    "    (x_end_arr,   y_end_arr,  z_end_arr,   flag_end_arr,\n",
    "     x_start_arr, y_start_arr,z_start_arr, flag_start_arr, \n",
    "     q_0_gpu_arr, q_perp_gpu_arr,\n",
    "     Bx_0_arr,    By_0_arr,   Bz_0_arr) = FastQSL.ResReshape(xy_shape,\n",
    "                    x_end,y_end,z_end,flag_end,\n",
    "                    x_start,y_start,z_start,flag_start,\n",
    "                    q_0_gpu, q_perp_gpu,\n",
    "                    Bx_inp,By_inp,Bz_inp)\n",
    "    cupy.cuda.stream.get_current_stream().synchronize()\n",
    "\n"
   ]
  },
  {
   "cell_type": "code",
   "execution_count": 17,
   "metadata": {},
   "outputs": [
    {
     "data": {
      "text/plain": [
       "array([[350.     , 350.25018, 350.5004 , ..., 524.0038 , 523.8466 ,\n",
       "        523.6671 ],\n",
       "       [350.     , 350.25018, 350.5004 , ..., 524.2572 , 524.15735,\n",
       "        523.983  ],\n",
       "       [350.     , 350.25018, 350.5004 , ..., 524.69116, 524.44257,\n",
       "        524.3332 ],\n",
       "       ...,\n",
       "       [350.     , 350.25018, 350.5004 , ..., 669.49963, 669.7498 ,\n",
       "        670.     ],\n",
       "       [350.     , 350.25018, 350.5004 , ..., 669.49963, 669.7498 ,\n",
       "        670.     ],\n",
       "       [350.     , 350.25018, 350.5004 , ..., 669.49963, 669.7498 ,\n",
       "        670.     ]], dtype=float32)"
      ]
     },
     "execution_count": 17,
     "metadata": {},
     "output_type": "execute_result"
    },
    {
     "name": "stdout",
     "output_type": "stream",
     "text": [
      "time: 0 ns (started: 2021-10-20 18:10:30 +08:00)\n"
     ]
    }
   ],
   "source": [
    "x_end_arr"
   ]
  },
  {
   "cell_type": "code",
   "execution_count": 29,
   "metadata": {},
   "outputs": [
    {
     "data": {
      "text/plain": [
       "[<matplotlib.axis.YTick at 0x25e05ae37c0>,\n",
       " <matplotlib.axis.YTick at 0x25e05a13fd0>,\n",
       " <matplotlib.axis.YTick at 0x25e05a13640>]"
      ]
     },
     "execution_count": 29,
     "metadata": {},
     "output_type": "execute_result"
    },
    {
     "data": {
      "image/png": "[encoded data removed]",
      "text/plain": [
       "<Figure size 960x240 with 1 Axes>"
      ]
     },
     "metadata": {
      "needs_background": "light"
     },
     "output_type": "display_data"
    },
    {
     "name": "stdout",
     "output_type": "stream",
     "text": [
      "time: 172 ms (started: 2021-10-20 18:14:11 +08:00)\n"
     ]
    }
   ],
   "source": [
    "axis_r=0.366\n",
    "dpi=120\n",
    "\n",
    "\n",
    "x_range_real = np.array(x_range)*axis_r\n",
    "y_range_real = np.array(y_range)*axis_r\n",
    "\n",
    "fig=plt.figure(13,dpi=dpi,figsize=[8,2]);\n",
    "\n",
    "ax0 = fig.add_axes([0,0,1/4,1])\n",
    "\n",
    "ax0.imshow(np.log10(q_perp_gpu_arr[:,:].get())*np.sign(Bz_0_arr.get()),\n",
    "                vmax=5,vmin=-5,cmap='bwr',origin='lower',\n",
    "                extent=[*x_range_real,*y_range_real])\n",
    "ax0.set_xlim([165,195])\n",
    "ax0.set_ylim([95,125])\n",
    "ax0.axes.get_xaxis().set_ticks([170,180,190])\n",
    "ax0.axes.get_yaxis().set_ticks([100,110,120])\n"
   ]
  },
  {
   "cell_type": "code",
   "execution_count": 13,
   "metadata": {},
   "outputs": [
    {
     "data": {
      "text/plain": [
       "<matplotlib.image.AxesImage at 0x25df5d68760>"
      ]
     },
     "execution_count": 13,
     "metadata": {},
     "output_type": "execute_result"
    },
    {
     "data": {
      "image/png": "[encoded data removed]",
      "text/plain": [
       "<Figure size 432x288 with 1 Axes>"
      ]
     },
     "metadata": {
      "needs_background": "light"
     },
     "output_type": "display_data"
    },
    {
     "name": "stdout",
     "output_type": "stream",
     "text": [
      "time: 297 ms (started: 2021-10-20 18:08:47 +08:00)\n"
     ]
    }
   ],
   "source": [
    "plt.imshow((x_end_arr[:,:].get()))"
   ]
  },
  {
   "cell_type": "code",
   "execution_count": null,
   "metadata": {},
   "outputs": [],
   "source": [
    "plt.imshow(((Qall_arr[:,:,3].get())<1.000001),#*np.sign(Bz_0_arr.get()),\n",
    "                cmap='bwr',origin='lower',\n",
    "                extent=[*x_range_real,*y_range_real])\n",
    "plt.gca().set_xlim([165,195])\n",
    "plt.gca().set_ylim([95,125])"
   ]
  },
  {
   "cell_type": "code",
   "execution_count": null,
   "metadata": {},
   "outputs": [],
   "source": [
    "np.where(np.isnan(Qall_arr[:,:,3].get()))"
   ]
  },
  {
   "cell_type": "code",
   "execution_count": 30,
   "metadata": {},
   "outputs": [
    {
     "data": {
      "text/plain": [
       "array(-65.21135, dtype=float32)"
      ]
     },
     "execution_count": 30,
     "metadata": {},
     "output_type": "execute_result"
    },
    {
     "name": "stdout",
     "output_type": "stream",
     "text": [
      "time: 484 ms (started: 2021-10-20 18:15:22 +08:00)\n"
     ]
    }
   ],
   "source": [
    "np.mean(Bz_inp)"
   ]
  },
  {
   "cell_type": "code",
   "execution_count": null,
   "metadata": {},
   "outputs": [],
   "source": []
  }
 ],
 "metadata": {
  "interpreter": {
   "hash": "144edb0585c21fb212b4b57259617032d7719c4c3decb64e4aeb36f4c54dc967"
  },
  "kernelspec": {
   "display_name": "Python 3 (ipykernel)",
   "language": "python",
   "name": "python3"
  },
  "language_info": {
   "codemirror_mode": {
    "name": "ipython",
    "version": 3
   },
   "file_extension": ".py",
   "mimetype": "text/x-python",
   "name": "python",
   "nbconvert_exporter": "python",
   "pygments_lexer": "ipython3",
   "version": "3.8.2"
  }
 },
 "nbformat": 4,
 "nbformat_minor": 4
}
