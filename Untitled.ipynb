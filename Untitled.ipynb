{
 "cells": [
  {
   "cell_type": "code",
   "execution_count": 3,
   "metadata": {},
   "outputs": [],
   "source": [
    "import pycuda.driver as cuda\n",
    "import pycuda.autoinit\n",
    "from pycuda.compiler import SourceModule\n",
    "import pycuda.gpuarray as gpuarray\n",
    "import numpy as np\n",
    "import pycuda.driver as cuda\n",
    "import scipy.io as sciIO"
   ]
  },
  {
   "cell_type": "code",
   "execution_count": 5,
   "metadata": {},
   "outputs": [
    {
     "name": "stderr",
     "output_type": "stream",
     "text": [
      "<ipython-input-5-7e7bab0bb6c9>:2: UserWarning: The CUDA compiler succeeded, but said the following:\n",
      "kernel.cu\n",
      "\n",
      "  traceFunc =SourceModule(traceFunc_file.read())\n"
     ]
    }
   ],
   "source": [
    "traceFunc_file = open(\"TraceBline.cu\", \"rt\")\n",
    "traceFunc =SourceModule(traceFunc_file.read())\n",
    "\n",
    "Interp3d = traceFunc.get_function(\"test_Interp3d\")\n"
   ]
  },
  {
   "cell_type": "code",
   "execution_count": 6,
   "metadata": {},
   "outputs": [
    {
     "name": "stderr",
     "output_type": "stream",
     "text": [
      "C:\\Users\\Pjer1\\Anaconda3\\envs\\torch15\\lib\\site-packages\\scipy\\io\\idl.py:469: UserWarning: Using experimental 64-bit array read\n",
      "  warnings.warn(\"Using experimental 64-bit array read\")\n"
     ]
    },
    {
     "name": "stdout",
     "output_type": "stream",
     "text": [
      "dict_keys(['twbox'])\n"
     ]
    }
   ],
   "source": [
    "\n",
    "a = sciIO.readsav('../B0.sav')\n",
    "print(a.keys())\n",
    "Bx = a.twbox[0].bx.astype(np.float32)\n",
    "By = a.twbox[0].by.astype(np.float32)\n",
    "Bz = a.twbox[0].bz.astype(np.float32)\n",
    "#Bx = gpuarray.to_gpu(Bx)\n",
    "#By = gpuarray.to_gpu(By)\n",
    "Bz = gpuarray.to_gpu(Bz)\n"
   ]
  },
  {
   "cell_type": "code",
   "execution_count": 7,
   "metadata": {},
   "outputs": [],
   "source": [
    "\n",
    "BshapeN = np.zeros(3,dtype=np.int_)\n",
    "BshapeN[:] = Bx.shape\n",
    "getIdx = np.zeros(3,dtype=np.int_)\n",
    "getIdx[:] = np.array([9,2,1],dtype=np.int_)\n",
    "res=np.array([0.0],dtype=np.float32)\n"
   ]
  },
  {
   "cell_type": "code",
   "execution_count": 10,
   "metadata": {},
   "outputs": [
    {
     "name": "stdout",
     "output_type": "stream",
     "text": [
      "[3.9018965]\n"
     ]
    }
   ],
   "source": [
    "getPoint = np.array([0.01,0.02,1.01],dtype=np.float32)\n",
    "#garray.empty((1), dtype=np.float)\n",
    "\n",
    "\n",
    "BshapeN = gpuarray.to_gpu(BshapeN)\n",
    "getIdx = gpuarray.to_gpu(getIdx)\n",
    "res_gpu = gpuarray.to_gpu(res)\n",
    "getPoint_gpu = gpuarray.to_gpu(getPoint)\n",
    "\n",
    "Interp3d(Bz,BshapeN,getPoint_gpu,res_gpu,block=(1,1,1))\n",
    "\n",
    "print(res_gpu.get())"
   ]
  },
  {
   "cell_type": "code",
   "execution_count": 9,
   "metadata": {},
   "outputs": [
    {
     "data": {
      "text/plain": [
       "array(3.9534802, dtype=float32)"
      ]
     },
     "execution_count": 9,
     "metadata": {},
     "output_type": "execute_result"
    }
   ],
   "source": [
    "Bz[0,0,1]"
   ]
  },
  {
   "cell_type": "code",
   "execution_count": null,
   "metadata": {},
   "outputs": [],
   "source": []
  },
  {
   "cell_type": "code",
   "execution_count": null,
   "metadata": {},
   "outputs": [],
   "source": []
  },
  {
   "cell_type": "code",
   "execution_count": null,
   "metadata": {},
   "outputs": [],
   "source": []
  }
 ],
 "metadata": {
  "kernelspec": {
   "display_name": "Python 3",
   "language": "python",
   "name": "python3"
  },
  "language_info": {
   "codemirror_mode": {
    "name": "ipython",
    "version": 3
   },
   "file_extension": ".py",
   "mimetype": "text/x-python",
   "name": "python",
   "nbconvert_exporter": "python",
   "pygments_lexer": "ipython3",
   "version": "3.8.2"
  }
 },
 "nbformat": 4,
 "nbformat_minor": 4
}
