{
 "cells": [
  {
   "cell_type": "code",
   "execution_count": 2,
   "metadata": {},
   "outputs": [],
   "source": [
    "import pycuda.driver as cuda\n",
    "import pycuda.autoinit\n",
    "from pycuda.compiler import SourceModule\n",
    "import pycuda.gpuarray as gpuarray\n",
    "import numpy as np\n",
    "import pycuda.driver as cuda\n",
    "import scipy.io as sciIO"
   ]
  },
  {
   "cell_type": "code",
   "execution_count": 3,
   "metadata": {},
   "outputs": [],
   "source": [
    "%load_ext autoreload\n",
    "%autoreload 2\n",
    "%load_ext autotime"
   ]
  },
  {
   "cell_type": "code",
   "execution_count": 4,
   "metadata": {},
   "outputs": [
    {
     "name": "stdout",
     "output_type": "stream",
     "text": [
      "time: 4.12 s\n"
     ]
    }
   ],
   "source": [
    "# compile from CUDA/C++ code\n",
    "traceFunc_file = open(\"TraceBline.cu\", \"rt\")\n",
    "traceFunc =SourceModule(traceFunc_file.read()) \n",
    "\n",
    "TraceAllBline = traceFunc.get_function(\"TraceAllBline\")\n",
    "TestMem = traceFunc.get_function(\"TestMem\")\n"
   ]
  },
  {
   "cell_type": "code",
   "execution_count": 5,
   "metadata": {},
   "outputs": [
    {
     "name": "stderr",
     "output_type": "stream",
     "text": [
      "C:\\Users\\Pjer1\\Anaconda3\\envs\\torch15\\lib\\site-packages\\scipy\\io\\idl.py:469: UserWarning: Using experimental 64-bit array read\n",
      "  warnings.warn(\"Using experimental 64-bit array read\")\n"
     ]
    },
    {
     "name": "stdout",
     "output_type": "stream",
     "text": [
      "dict_keys(['twbox'])\n",
      "time: 6.79 s\n"
     ]
    }
   ],
   "source": [
    "\n",
    "a = sciIO.readsav('../B0.sav')\n",
    "print(a.keys())\n",
    "Bx = a.twbox[0].bx.astype(np.float32)\n",
    "By = a.twbox[0].by.astype(np.float32)\n",
    "Bz = a.twbox[0].bz.astype(np.float32)\n",
    "Bx = gpuarray.to_gpu(Bx)\n",
    "By = gpuarray.to_gpu(By)\n",
    "Bz = gpuarray.to_gpu(Bz)\n"
   ]
  },
  {
   "cell_type": "code",
   "execution_count": 13,
   "metadata": {},
   "outputs": [
    {
     "name": "stdout",
     "output_type": "stream",
     "text": [
      "time: 191 ms\n"
     ]
    }
   ],
   "source": [
    "# shape of B\n",
    "BshapeN = np.zeros(3,dtype=np.int32)\n",
    "BshapeN[:] = Bx.shape\n",
    "\n",
    "\n",
    "interp_ratio=4\n",
    "x_range = [200,400]\n",
    "y_range = [200,400]\n",
    "x_i = np.linspace(*x_range, interp_ratio*(x_range[1]-x_range[0]))\n",
    "y_i = np.linspace(*y_range, interp_ratio*(x_range[1]-x_range[0]))\n",
    "\n",
    "x_arr,y_arr = xx, yy = np.meshgrid(x_i, y_i)\n",
    "\n",
    "xy_shape = x_arr.shape\n",
    "\n",
    "x_inp = x_arr.flatten().astype(np.float32)\n",
    "y_inp = y_arr.flatten().astype(np.float32)\n",
    "z_inp = np.zeros_like(x_inp).astype(np.float32)\n",
    "\n",
    "x_out = np.zeros_like(x_inp).astype(np.float32)\n",
    "y_out = np.zeros_like(x_inp).astype(np.float32)\n",
    "z_out = np.zeros_like(x_inp).astype(np.float32)\n",
    "\n",
    "\n",
    "flag_out = np.zeros_like(x_inp).astype(np.int32)\n",
    "\n",
    "s_len = np.float32([0.25])\n",
    "N=np.ulonglong([x_inp.shape[0]])\n",
    "\n",
    "blck = (32,32,1)\n",
    "grid_a = 2**(np.int(np.log2(np.sqrt(N/1024))))\n",
    "grd = (grid_a,int(np.ceil(N/grid_a/1024)))"
   ]
  },
  {
   "cell_type": "code",
   "execution_count": 10,
   "metadata": {},
   "outputs": [
    {
     "name": "stdout",
     "output_type": "stream",
     "text": [
      "time: 20 ms\n"
     ]
    }
   ],
   "source": [
    "BshapeN = gpuarray.to_gpu(BshapeN)\n",
    "x_inp = gpuarray.to_gpu(x_inp)\n",
    "y_inp = gpuarray.to_gpu(y_inp)\n",
    "z_inp = gpuarray.to_gpu(z_inp)\n",
    "\n",
    "x_out = gpuarray.to_gpu(x_out)\n",
    "y_out = gpuarray.to_gpu(y_out)\n",
    "z_out = gpuarray.to_gpu(z_out)\n",
    "\n",
    "s_len    = gpuarray.to_gpu(s_len)\n",
    "flag_out = gpuarray.to_gpu(flag_out)\n",
    "N        = gpuarray.to_gpu(N)"
   ]
  },
  {
   "cell_type": "code",
   "execution_count": 11,
   "metadata": {},
   "outputs": [
    {
     "name": "stdout",
     "output_type": "stream",
     "text": [
      "time: 4.01 ms\n"
     ]
    }
   ],
   "source": [
    "TraceAllBline(Bx,By,Bz,BshapeN,\n",
    "             x_inp,y_inp,z_inp,\n",
    "             x_out,y_out,z_out,\n",
    "             s_len,flag_out,N,\n",
    "             block=blck,grid=grd)"
   ]
  },
  {
   "cell_type": "code",
   "execution_count": null,
   "metadata": {},
   "outputs": [],
   "source": [
    "TestMem(flag_out,block=(1,1,1))"
   ]
  },
  {
   "cell_type": "code",
   "execution_count": 7,
   "metadata": {},
   "outputs": [
    {
     "data": {
      "text/plain": [
       "array([ 488,  488, 1164])"
      ]
     },
     "execution_count": 7,
     "metadata": {},
     "output_type": "execute_result"
    },
    {
     "name": "stdout",
     "output_type": "stream",
     "text": [
      "time: 10 ms\n"
     ]
    }
   ],
   "source": [
    "BshapeN"
   ]
  },
  {
   "cell_type": "code",
   "execution_count": 16,
   "metadata": {},
   "outputs": [
    {
     "data": {
      "text/plain": [
       "array([0., 0., 0., ..., 0., 0., 0.], dtype=float32)"
      ]
     },
     "execution_count": 16,
     "metadata": {},
     "output_type": "execute_result"
    },
    {
     "name": "stdout",
     "output_type": "stream",
     "text": [
      "time: 3 ms\n"
     ]
    }
   ],
   "source": [
    "z_inp"
   ]
  },
  {
   "cell_type": "code",
   "execution_count": null,
   "metadata": {},
   "outputs": [],
   "source": []
  },
  {
   "cell_type": "code",
   "execution_count": null,
   "metadata": {},
   "outputs": [],
   "source": [
    "getPoint = np.array([0.01,0.02,1.01],dtype=np.float32)\n",
    "#garray.empty((1), dtype=np.float)\n",
    "\n",
    "\n",
    "BshapeN = gpuarray.to_gpu(BshapeN)\n",
    "getIdx = gpuarray.to_gpu(getIdx)\n",
    "res_gpu = gpuarray.to_gpu(res)\n",
    "getPoint_gpu = gpuarray.to_gpu(getPoint)\n",
    "\n",
    "Interp3d(Bz,BshapeN,getPoint_gpu,res_gpu,block=(1,1,1))\n",
    "\n",
    "print(res_gpu.get())"
   ]
  },
  {
   "cell_type": "code",
   "execution_count": null,
   "metadata": {},
   "outputs": [],
   "source": [
    "Bz[0,0,1]"
   ]
  },
  {
   "cell_type": "code",
   "execution_count": null,
   "metadata": {},
   "outputs": [],
   "source": [
    "\n",
    "#getIdx = np.zeros(3,dtype=np.int_)\n",
    "#getIdx[:] = np.array([9,2,1],dtype=np.int_)\n",
    "#res=np.array([0.0],dtype=np.float32)\n"
   ]
  },
  {
   "cell_type": "code",
   "execution_count": null,
   "metadata": {},
   "outputs": [],
   "source": []
  },
  {
   "cell_type": "code",
   "execution_count": null,
   "metadata": {},
   "outputs": [],
   "source": []
  }
 ],
 "metadata": {
  "kernelspec": {
   "display_name": "Python 3",
   "language": "python",
   "name": "python3"
  },
  "language_info": {
   "codemirror_mode": {
    "name": "ipython",
    "version": 3
   },
   "file_extension": ".py",
   "mimetype": "text/x-python",
   "name": "python",
   "nbconvert_exporter": "python",
   "pygments_lexer": "ipython3",
   "version": "3.8.2"
  }
 },
 "nbformat": 4,
 "nbformat_minor": 4
}
