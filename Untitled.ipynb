{
 "cells": [
  {
   "cell_type": "code",
   "execution_count": 1,
   "metadata": {},
   "outputs": [],
   "source": [
    "import pycuda.driver as cuda\n",
    "import pycuda.autoinit\n",
    "from pycuda.compiler import SourceModule\n",
    "import pycuda.gpuarray as gpuarray\n",
    "import numpy as np\n",
    "import pycuda.driver as cuda\n",
    "import scipy.io as sciIO"
   ]
  },
  {
   "cell_type": "code",
   "execution_count": 3,
   "metadata": {},
   "outputs": [
    {
     "name": "stdout",
     "output_type": "stream",
     "text": [
      "The autoreload extension is already loaded. To reload it, use:\n",
      "  %reload_ext autoreload\n"
     ]
    }
   ],
   "source": [
    "%load_ext autoreload\n",
    "%autoreload 2\n",
    "%load_ext autotime"
   ]
  },
  {
   "cell_type": "code",
   "execution_count": 4,
   "metadata": {},
   "outputs": [
    {
     "name": "stdout",
     "output_type": "stream",
     "text": [
      "time: 3.8 s\n"
     ]
    }
   ],
   "source": [
    "# compile from CUDA/C++ code\n",
    "traceFunc_file = open(\"TraceBline.cu\", \"rt\")\n",
    "traceFunc =SourceModule(traceFunc_file.read()) \n",
    "\n",
    "TraceAllBline = traceFunc.get_function(\"TraceAllBline\")\n",
    "test_Idx3d = traceFunc.get_function(\"test_Idx3d\")\n",
    "test_Interp3d = traceFunc.get_function(\"test_Interp3d\")\n"
   ]
  },
  {
   "cell_type": "code",
   "execution_count": 5,
   "metadata": {
    "tags": []
   },
   "outputs": [
    {
     "name": "stderr",
     "output_type": "stream",
     "text": [
      "C:\\Users\\Pjer1\\Anaconda3\\envs\\torch15\\lib\\site-packages\\scipy\\io\\idl.py:469: UserWarning: Using experimental 64-bit array read\n",
      "  warnings.warn(\"Using experimental 64-bit array read\")\n"
     ]
    },
    {
     "name": "stdout",
     "output_type": "stream",
     "text": [
      "dict_keys(['twbox'])\n",
      "time: 6.18 s\n"
     ]
    }
   ],
   "source": [
    "a = sciIO.readsav('../B0.sav')\n",
    "print(a.keys())\n",
    "Bx = np.transpose(a.twbox[0].bx,(2,1,0))\n",
    "By = np.transpose(a.twbox[0].by,(2,1,0))\n",
    "Bz = np.transpose(a.twbox[0].bz,(2,1,0))\n",
    "Bx = gpuarray.to_gpu(Bx.astype(np.float32))\n",
    "By = gpuarray.to_gpu(By.astype(np.float32))\n",
    "Bz = gpuarray.to_gpu(Bz.astype(np.float32))"
   ]
  },
  {
   "cell_type": "code",
   "execution_count": 7,
   "metadata": {},
   "outputs": [],
   "source": [
    "# shape of B\n",
    "BshapeN = np.zeros(3,dtype=np.int32)\n",
    "BshapeN[:] = Bx.shape\n",
    "\n",
    "\n",
    "interp_ratio=4\n",
    "x_range = [200,400]\n",
    "y_range = [200,400]\n",
    "x_i = np.linspace(*x_range, interp_ratio*(x_range[1]-x_range[0]))\n",
    "y_i = np.linspace(*y_range, interp_ratio*(x_range[1]-x_range[0]))\n",
    "\n",
    "x_arr,y_arr = xx, yy = np.meshgrid(x_i, y_i)\n",
    "\n",
    "xy_shape = x_arr.shape\n",
    "\n",
    "x_inp = x_arr.flatten().astype(np.float32)\n",
    "y_inp = y_arr.flatten().astype(np.float32)\n",
    "z_inp = np.zeros_like(x_inp).astype(np.float32)\n",
    "\n",
    "x_out = np.zeros_like(x_inp).astype(np.float32)\n",
    "y_out = np.zeros_like(x_inp).astype(np.float32)\n",
    "z_out = np.zeros_like(x_inp).astype(np.float32)\n",
    "\n",
    "\n",
    "flag_out = np.zeros_like(x_inp).astype(np.int32)\n",
    "\n",
    "s_len = np.float32([0.25])\n",
    "N=np.ulonglong([x_inp.shape[0]])\n",
    "\n",
    "blck = (32,32,1)\n",
    "grid_a = 2**(np.int(np.log2(np.sqrt(N/1024))))\n",
    "grd = (grid_a,int(np.ceil(N/grid_a/1024)))"
   ]
  },
  {
   "cell_type": "code",
   "execution_count": 6,
   "metadata": {},
   "outputs": [
    {
     "data": {
      "text/plain": [
       "(640000,)"
      ]
     },
     "execution_count": 6,
     "metadata": {},
     "output_type": "execute_result"
    }
   ],
   "source": [
    "x_inp.shape"
   ]
  },
  {
   "cell_type": "code",
   "execution_count": 7,
   "metadata": {},
   "outputs": [
    {
     "data": {
      "text/plain": [
       "(640000,)"
      ]
     },
     "execution_count": 7,
     "metadata": {},
     "output_type": "execute_result"
    }
   ],
   "source": [
    "flag_out.shape"
   ]
  },
  {
   "cell_type": "code",
   "execution_count": 8,
   "metadata": {},
   "outputs": [],
   "source": [
    "BshapeN = gpuarray.to_gpu(BshapeN)\n",
    "x_inp = gpuarray.to_gpu(x_inp)\n",
    "y_inp = gpuarray.to_gpu(y_inp)\n",
    "z_inp = gpuarray.to_gpu(z_inp)\n",
    "\n",
    "x_out = gpuarray.to_gpu(x_out)\n",
    "y_out = gpuarray.to_gpu(y_out)\n",
    "z_out = gpuarray.to_gpu(z_out)\n",
    "\n",
    "s_len    = gpuarray.to_gpu(s_len)\n",
    "flag_out = gpuarray.to_gpu(flag_out)\n",
    "N        = gpuarray.to_gpu(N)"
   ]
  },
  {
   "cell_type": "code",
   "execution_count": 11,
   "metadata": {},
   "outputs": [
    {
     "name": "stdout",
     "output_type": "stream",
     "text": [
      "time: 4.01 ms\n"
     ]
    }
   ],
   "source": [
    "TraceAllBline(Bx,By,Bz,BshapeN,\n",
    "             x_inp,y_inp,z_inp,\n",
    "             x_out,y_out,z_out,\n",
    "             flag_out,N,\n",
    "             block=blck,grid=grd)"
   ]
  },
  {
   "cell_type": "code",
   "execution_count": null,
   "metadata": {},
   "outputs": [],
   "source": [
    "TestMem(flag_out,block=(1,1,1))"
   ]
  },
  {
   "cell_type": "code",
   "execution_count": 1,
   "metadata": {},
   "outputs": [
    {
     "ename": "NameError",
     "evalue": "name 'flag_out' is not defined",
     "output_type": "error",
     "traceback": [
      "\u001b[1;31m---------------------------------------------------------------------------\u001b[0m",
      "\u001b[1;31mNameError\u001b[0m                                 Traceback (most recent call last)",
      "\u001b[1;32m<ipython-input-1-df61a5f90d01>\u001b[0m in \u001b[0;36m<module>\u001b[1;34m\u001b[0m\n\u001b[1;32m----> 1\u001b[1;33m \u001b[0mflag_out\u001b[0m\u001b[1;33m.\u001b[0m\u001b[0mshape\u001b[0m\u001b[1;33m\u001b[0m\u001b[1;33m\u001b[0m\u001b[0m\n\u001b[0m",
      "\u001b[1;31mNameError\u001b[0m: name 'flag_out' is not defined"
     ]
    }
   ],
   "source": [
    "flag_out.shape"
   ]
  },
  {
   "cell_type": "code",
   "execution_count": 16,
   "metadata": {},
   "outputs": [
    {
     "data": {
      "text/plain": [
       "array([0., 0., 0., ..., 0., 0., 0.], dtype=float32)"
      ]
     },
     "execution_count": 16,
     "metadata": {},
     "output_type": "execute_result"
    },
    {
     "name": "stdout",
     "output_type": "stream",
     "text": [
      "time: 3 ms\n"
     ]
    }
   ],
   "source": [
    "z_inp"
   ]
  },
  {
   "cell_type": "code",
   "execution_count": null,
   "metadata": {},
   "outputs": [],
   "source": []
  },
  {
   "cell_type": "code",
   "execution_count": null,
   "metadata": {},
   "outputs": [],
   "source": [
    "getPoint = np.array([0.01,0.02,1.01],dtype=np.float32)\n",
    "#garray.empty((1), dtype=np.float)\n",
    "\n",
    "\n",
    "BshapeN = gpuarray.to_gpu(BshapeN)\n",
    "getIdx = gpuarray.to_gpu(getIdx)\n",
    "res_gpu = gpuarray.to_gpu(res)\n",
    "getPoint_gpu = gpuarray.to_gpu(getPoint)\n",
    "\n",
    "Interp3d(Bz,BshapeN,getPoint_gpu,res_gpu,block=(1,1,1))\n",
    "\n",
    "print(res_gpu.get())"
   ]
  },
  {
   "cell_type": "code",
   "execution_count": 7,
   "metadata": {},
   "outputs": [
    {
     "ename": "AttributeError",
     "evalue": "'GPUArray' object has no attribute 'type'",
     "output_type": "error",
     "traceback": [
      "\u001b[1;31m---------------------------------------------------------------------------\u001b[0m",
      "\u001b[1;31mAttributeError\u001b[0m                            Traceback (most recent call last)",
      "\u001b[1;32m<ipython-input-7-f2701bc49bd0>\u001b[0m in \u001b[0;36m<module>\u001b[1;34m\u001b[0m\n\u001b[1;32m----> 1\u001b[1;33m \u001b[0mBz\u001b[0m\u001b[1;33m.\u001b[0m\u001b[0mtype\u001b[0m\u001b[1;33m\u001b[0m\u001b[1;33m\u001b[0m\u001b[0m\n\u001b[0m",
      "\u001b[1;31mAttributeError\u001b[0m: 'GPUArray' object has no attribute 'type'"
     ]
    }
   ],
   "source": [
    "Bz.type"
   ]
  },
  {
   "cell_type": "code",
   "execution_count": 8,
   "metadata": {},
   "outputs": [],
   "source": [
    "realpos=[1,2,11]\n",
    "\n",
    "\n",
    "getIdx = (np.array(realpos)).astype(np.int32)\n",
    "res=np.array([0.0],dtype=np.float32)\n",
    "\n",
    "\n",
    "getIdx = gpuarray.to_gpu(getIdx)\n",
    "res = gpuarray.to_gpu(res)"
   ]
  },
  {
   "cell_type": "code",
   "execution_count": 12,
   "metadata": {},
   "outputs": [
    {
     "name": "stdout",
     "output_type": "stream",
     "text": [
      "Shape : [1164  488  488]\n",
      "Index : [586 300  25]\n",
      "Host Value : -37.14016\n",
      "GPU  Value : -37.14016\n",
      "[586.97 300.61  25.58]\n",
      "[-42.66399]\n",
      "time: 163 ms\n"
     ]
    }
   ],
   "source": [
    "\n",
    "# shape of B\n",
    "BshapeN = np.zeros(3,dtype=np.int_)\n",
    "BshapeN[:] = Bz.shape\n",
    "print('Shape : '+str(BshapeN))\n",
    "\n",
    "\n",
    "realpos=[586,300,25]\n",
    "\n",
    "#getIdx = (1.1+np.array(realpos)).astype(np.float32)\n",
    "getIdx = np.array(realpos).astype(np.int_)\n",
    "res = np.array([0.0]).astype(np.float32)\n",
    "\n",
    "print('Index : '+str(getIdx))\n",
    "\n",
    "Bz_gpu = gpuarray.to_gpu(Bz)\n",
    "getIdx_gpu = gpuarray.to_gpu(getIdx)\n",
    "res_gpu = gpuarray.to_gpu(res)\n",
    "BshapeN = gpuarray.to_gpu(BshapeN)\n",
    "\n",
    "# test indexing \n",
    "test_Idx3d(Bz_gpu,BshapeN,getIdx_gpu,res_gpu,block=(1,1,1))\n",
    "print(\"Host Value : \" +str(Bz[realpos[0],realpos[1],realpos[2]]))\n",
    "print(\"GPU  Value : \" +str(res_gpu.get()[0]))\n",
    "cuda.Context.synchronize()\n",
    "\n",
    "# test interpolation\n",
    "pinPoint = (np.array([586.97,300.61,25.58])).astype(np.float32)\n",
    "pinPoint_gpu = gpuarray.to_gpu(pinPoint)\n",
    "print(pinPoint)\n",
    "test_Interp3d(Bz_gpu,BshapeN,pinPoint_gpu,res_gpu,block=(1,1,1))\n",
    "print(res_gpu.get())\n",
    "cuda.Context.synchronize()\n"
   ]
  },
  {
   "cell_type": "code",
   "execution_count": 13,
   "metadata": {},
   "outputs": [
    {
     "name": "stdout",
     "output_type": "stream",
     "text": [
      "Host Value : -37.14016\n",
      "Host Value : -39.296806\n",
      "Host Value : -36.988617\n",
      "Host Value : -39.181465\n",
      "Host Value : -41.865402\n",
      "Host Value : -43.625504\n",
      "Host Value : -41.69917\n",
      "Host Value : -43.4985\n",
      "time: 23 ms\n"
     ]
    }
   ],
   "source": [
    "print(\"Host Value : \" +str(Bz[realpos[0]   ,realpos[1],  realpos[2]  ]))\n",
    "print(\"Host Value : \" +str(Bz[realpos[0]   ,realpos[1],  realpos[2]+1]))\n",
    "print(\"Host Value : \" +str(Bz[realpos[0]   ,realpos[1]+1,realpos[2]]))\n",
    "print(\"Host Value : \" +str(Bz[realpos[0]   ,realpos[1]+1,realpos[2]+1]))\n",
    "print(\"Host Value : \" +str(Bz[realpos[0]+1 ,realpos[1],  realpos[2]]))\n",
    "print(\"Host Value : \" +str(Bz[realpos[0]+1 ,realpos[1],  realpos[2]+1]))\n",
    "print(\"Host Value : \" +str(Bz[realpos[0]+1 ,realpos[1]+1,realpos[2]]))\n",
    "print(\"Host Value : \" +str(Bz[realpos[0]+1 ,realpos[1]+1,realpos[2]+1]))\n"
   ]
  },
  {
   "cell_type": "code",
   "execution_count": 15,
   "metadata": {},
   "outputs": [
    {
     "data": {
      "text/plain": [
       "(1164, 488, 488)"
      ]
     },
     "execution_count": 15,
     "metadata": {},
     "output_type": "execute_result"
    },
    {
     "name": "stdout",
     "output_type": "stream",
     "text": [
      "time: 2.01 ms\n"
     ]
    }
   ],
   "source": [
    "Bz.shape"
   ]
  },
  {
   "cell_type": "code",
   "execution_count": 9,
   "metadata": {},
   "outputs": [
    {
     "ename": "LogicError",
     "evalue": "cuMemcpyDtoH failed: an illegal memory access was encountered",
     "output_type": "error",
     "traceback": [
      "\u001b[1;31m---------------------------------------------------------------------------\u001b[0m",
      "\u001b[1;31mLogicError\u001b[0m                                Traceback (most recent call last)",
      "\u001b[1;32m~\\Anaconda3\\lib\\site-packages\\IPython\\core\\formatters.py\u001b[0m in \u001b[0;36m__call__\u001b[1;34m(self, obj)\u001b[0m\n\u001b[0;32m    700\u001b[0m                 \u001b[0mtype_pprinters\u001b[0m\u001b[1;33m=\u001b[0m\u001b[0mself\u001b[0m\u001b[1;33m.\u001b[0m\u001b[0mtype_printers\u001b[0m\u001b[1;33m,\u001b[0m\u001b[1;33m\u001b[0m\u001b[1;33m\u001b[0m\u001b[0m\n\u001b[0;32m    701\u001b[0m                 deferred_pprinters=self.deferred_printers)\n\u001b[1;32m--> 702\u001b[1;33m             \u001b[0mprinter\u001b[0m\u001b[1;33m.\u001b[0m\u001b[0mpretty\u001b[0m\u001b[1;33m(\u001b[0m\u001b[0mobj\u001b[0m\u001b[1;33m)\u001b[0m\u001b[1;33m\u001b[0m\u001b[1;33m\u001b[0m\u001b[0m\n\u001b[0m\u001b[0;32m    703\u001b[0m             \u001b[0mprinter\u001b[0m\u001b[1;33m.\u001b[0m\u001b[0mflush\u001b[0m\u001b[1;33m(\u001b[0m\u001b[1;33m)\u001b[0m\u001b[1;33m\u001b[0m\u001b[1;33m\u001b[0m\u001b[0m\n\u001b[0;32m    704\u001b[0m             \u001b[1;32mreturn\u001b[0m \u001b[0mstream\u001b[0m\u001b[1;33m.\u001b[0m\u001b[0mgetvalue\u001b[0m\u001b[1;33m(\u001b[0m\u001b[1;33m)\u001b[0m\u001b[1;33m\u001b[0m\u001b[1;33m\u001b[0m\u001b[0m\n",
      "\u001b[1;32m~\\Anaconda3\\lib\\site-packages\\IPython\\lib\\pretty.py\u001b[0m in \u001b[0;36mpretty\u001b[1;34m(self, obj)\u001b[0m\n\u001b[0;32m    400\u001b[0m                         \u001b[1;32mif\u001b[0m \u001b[0mcls\u001b[0m \u001b[1;32mis\u001b[0m \u001b[1;32mnot\u001b[0m \u001b[0mobject\u001b[0m\u001b[0;31m \u001b[0m\u001b[0;31m\\\u001b[0m\u001b[1;33m\u001b[0m\u001b[1;33m\u001b[0m\u001b[0m\n\u001b[0;32m    401\u001b[0m                                 \u001b[1;32mand\u001b[0m \u001b[0mcallable\u001b[0m\u001b[1;33m(\u001b[0m\u001b[0mcls\u001b[0m\u001b[1;33m.\u001b[0m\u001b[0m__dict__\u001b[0m\u001b[1;33m.\u001b[0m\u001b[0mget\u001b[0m\u001b[1;33m(\u001b[0m\u001b[1;34m'__repr__'\u001b[0m\u001b[1;33m)\u001b[0m\u001b[1;33m)\u001b[0m\u001b[1;33m:\u001b[0m\u001b[1;33m\u001b[0m\u001b[1;33m\u001b[0m\u001b[0m\n\u001b[1;32m--> 402\u001b[1;33m                             \u001b[1;32mreturn\u001b[0m \u001b[0m_repr_pprint\u001b[0m\u001b[1;33m(\u001b[0m\u001b[0mobj\u001b[0m\u001b[1;33m,\u001b[0m \u001b[0mself\u001b[0m\u001b[1;33m,\u001b[0m \u001b[0mcycle\u001b[0m\u001b[1;33m)\u001b[0m\u001b[1;33m\u001b[0m\u001b[1;33m\u001b[0m\u001b[0m\n\u001b[0m\u001b[0;32m    403\u001b[0m \u001b[1;33m\u001b[0m\u001b[0m\n\u001b[0;32m    404\u001b[0m             \u001b[1;32mreturn\u001b[0m \u001b[0m_default_pprint\u001b[0m\u001b[1;33m(\u001b[0m\u001b[0mobj\u001b[0m\u001b[1;33m,\u001b[0m \u001b[0mself\u001b[0m\u001b[1;33m,\u001b[0m \u001b[0mcycle\u001b[0m\u001b[1;33m)\u001b[0m\u001b[1;33m\u001b[0m\u001b[1;33m\u001b[0m\u001b[0m\n",
      "\u001b[1;32m~\\Anaconda3\\lib\\site-packages\\IPython\\lib\\pretty.py\u001b[0m in \u001b[0;36m_repr_pprint\u001b[1;34m(obj, p, cycle)\u001b[0m\n\u001b[0;32m    695\u001b[0m     \u001b[1;34m\"\"\"A pprint that just redirects to the normal repr function.\"\"\"\u001b[0m\u001b[1;33m\u001b[0m\u001b[1;33m\u001b[0m\u001b[0m\n\u001b[0;32m    696\u001b[0m     \u001b[1;31m# Find newlines and replace them with p.break_()\u001b[0m\u001b[1;33m\u001b[0m\u001b[1;33m\u001b[0m\u001b[1;33m\u001b[0m\u001b[0m\n\u001b[1;32m--> 697\u001b[1;33m     \u001b[0moutput\u001b[0m \u001b[1;33m=\u001b[0m \u001b[0mrepr\u001b[0m\u001b[1;33m(\u001b[0m\u001b[0mobj\u001b[0m\u001b[1;33m)\u001b[0m\u001b[1;33m\u001b[0m\u001b[1;33m\u001b[0m\u001b[0m\n\u001b[0m\u001b[0;32m    698\u001b[0m     \u001b[1;32mfor\u001b[0m \u001b[0midx\u001b[0m\u001b[1;33m,\u001b[0m\u001b[0moutput_line\u001b[0m \u001b[1;32min\u001b[0m \u001b[0menumerate\u001b[0m\u001b[1;33m(\u001b[0m\u001b[0moutput\u001b[0m\u001b[1;33m.\u001b[0m\u001b[0msplitlines\u001b[0m\u001b[1;33m(\u001b[0m\u001b[1;33m)\u001b[0m\u001b[1;33m)\u001b[0m\u001b[1;33m:\u001b[0m\u001b[1;33m\u001b[0m\u001b[1;33m\u001b[0m\u001b[0m\n\u001b[0;32m    699\u001b[0m         \u001b[1;32mif\u001b[0m \u001b[0midx\u001b[0m\u001b[1;33m:\u001b[0m\u001b[1;33m\u001b[0m\u001b[1;33m\u001b[0m\u001b[0m\n",
      "\u001b[1;32m~\\Anaconda3\\lib\\site-packages\\pycuda\\gpuarray.py\u001b[0m in \u001b[0;36m__repr__\u001b[1;34m(self)\u001b[0m\n\u001b[0;32m    318\u001b[0m \u001b[1;33m\u001b[0m\u001b[0m\n\u001b[0;32m    319\u001b[0m     \u001b[1;32mdef\u001b[0m \u001b[0m__repr__\u001b[0m\u001b[1;33m(\u001b[0m\u001b[0mself\u001b[0m\u001b[1;33m)\u001b[0m\u001b[1;33m:\u001b[0m\u001b[1;33m\u001b[0m\u001b[1;33m\u001b[0m\u001b[0m\n\u001b[1;32m--> 320\u001b[1;33m         \u001b[1;32mreturn\u001b[0m \u001b[0mrepr\u001b[0m\u001b[1;33m(\u001b[0m\u001b[0mself\u001b[0m\u001b[1;33m.\u001b[0m\u001b[0mget\u001b[0m\u001b[1;33m(\u001b[0m\u001b[1;33m)\u001b[0m\u001b[1;33m)\u001b[0m\u001b[1;33m\u001b[0m\u001b[1;33m\u001b[0m\u001b[0m\n\u001b[0m\u001b[0;32m    321\u001b[0m \u001b[1;33m\u001b[0m\u001b[0m\n\u001b[0;32m    322\u001b[0m     \u001b[1;32mdef\u001b[0m \u001b[0m__hash__\u001b[0m\u001b[1;33m(\u001b[0m\u001b[0mself\u001b[0m\u001b[1;33m)\u001b[0m\u001b[1;33m:\u001b[0m\u001b[1;33m\u001b[0m\u001b[1;33m\u001b[0m\u001b[0m\n",
      "\u001b[1;32m~\\Anaconda3\\lib\\site-packages\\pycuda\\gpuarray.py\u001b[0m in \u001b[0;36mget\u001b[1;34m(self, ary, pagelocked, async_, stream, **kwargs)\u001b[0m\n\u001b[0;32m    303\u001b[0m \u001b[1;33m\u001b[0m\u001b[0m\n\u001b[0;32m    304\u001b[0m         \u001b[1;32mif\u001b[0m \u001b[0mself\u001b[0m\u001b[1;33m.\u001b[0m\u001b[0msize\u001b[0m\u001b[1;33m:\u001b[0m\u001b[1;33m\u001b[0m\u001b[1;33m\u001b[0m\u001b[0m\n\u001b[1;32m--> 305\u001b[1;33m             \u001b[0m_memcpy_discontig\u001b[0m\u001b[1;33m(\u001b[0m\u001b[0mary\u001b[0m\u001b[1;33m,\u001b[0m \u001b[0mself\u001b[0m\u001b[1;33m,\u001b[0m \u001b[0masync_\u001b[0m\u001b[1;33m=\u001b[0m\u001b[0masync_\u001b[0m\u001b[1;33m,\u001b[0m \u001b[0mstream\u001b[0m\u001b[1;33m=\u001b[0m\u001b[0mstream\u001b[0m\u001b[1;33m)\u001b[0m\u001b[1;33m\u001b[0m\u001b[1;33m\u001b[0m\u001b[0m\n\u001b[0m\u001b[0;32m    306\u001b[0m         \u001b[1;32mreturn\u001b[0m \u001b[0mary\u001b[0m\u001b[1;33m\u001b[0m\u001b[1;33m\u001b[0m\u001b[0m\n\u001b[0;32m    307\u001b[0m \u001b[1;33m\u001b[0m\u001b[0m\n",
      "\u001b[1;32m~\\Anaconda3\\lib\\site-packages\\pycuda\\gpuarray.py\u001b[0m in \u001b[0;36m_memcpy_discontig\u001b[1;34m(dst, src, async_, stream)\u001b[0m\n\u001b[0;32m   1307\u001b[0m                     \u001b[0mdrv\u001b[0m\u001b[1;33m.\u001b[0m\u001b[0mmemcpy_dtoh_async\u001b[0m\u001b[1;33m(\u001b[0m\u001b[0mdst\u001b[0m\u001b[1;33m,\u001b[0m \u001b[0msrc\u001b[0m\u001b[1;33m.\u001b[0m\u001b[0mgpudata\u001b[0m\u001b[1;33m,\u001b[0m \u001b[0mstream\u001b[0m\u001b[1;33m=\u001b[0m\u001b[0mstream\u001b[0m\u001b[1;33m)\u001b[0m\u001b[1;33m\u001b[0m\u001b[1;33m\u001b[0m\u001b[0m\n\u001b[0;32m   1308\u001b[0m                 \u001b[1;32melse\u001b[0m\u001b[1;33m:\u001b[0m\u001b[1;33m\u001b[0m\u001b[1;33m\u001b[0m\u001b[0m\n\u001b[1;32m-> 1309\u001b[1;33m                     \u001b[0mdrv\u001b[0m\u001b[1;33m.\u001b[0m\u001b[0mmemcpy_dtoh\u001b[0m\u001b[1;33m(\u001b[0m\u001b[0mdst\u001b[0m\u001b[1;33m,\u001b[0m \u001b[0msrc\u001b[0m\u001b[1;33m.\u001b[0m\u001b[0mgpudata\u001b[0m\u001b[1;33m)\u001b[0m\u001b[1;33m\u001b[0m\u001b[1;33m\u001b[0m\u001b[0m\n\u001b[0m\u001b[0;32m   1310\u001b[0m         \u001b[1;32melse\u001b[0m\u001b[1;33m:\u001b[0m\u001b[1;33m\u001b[0m\u001b[1;33m\u001b[0m\u001b[0m\n\u001b[0;32m   1311\u001b[0m             \u001b[0msrc\u001b[0m \u001b[1;33m=\u001b[0m \u001b[0m_as_strided\u001b[0m\u001b[1;33m(\u001b[0m\u001b[0msrc\u001b[0m\u001b[1;33m,\u001b[0m \u001b[0mshape\u001b[0m\u001b[1;33m=\u001b[0m\u001b[1;33m(\u001b[0m\u001b[0msrc\u001b[0m\u001b[1;33m.\u001b[0m\u001b[0msize\u001b[0m\u001b[1;33m,\u001b[0m\u001b[1;33m)\u001b[0m\u001b[1;33m,\u001b[0m \u001b[0mstrides\u001b[0m\u001b[1;33m=\u001b[0m\u001b[1;33m(\u001b[0m\u001b[0msrc\u001b[0m\u001b[1;33m.\u001b[0m\u001b[0mdtype\u001b[0m\u001b[1;33m.\u001b[0m\u001b[0mitemsize\u001b[0m\u001b[1;33m,\u001b[0m\u001b[1;33m)\u001b[0m\u001b[1;33m)\u001b[0m\u001b[1;33m\u001b[0m\u001b[1;33m\u001b[0m\u001b[0m\n",
      "\u001b[1;31mLogicError\u001b[0m: cuMemcpyDtoH failed: an illegal memory access was encountered"
     ]
    }
   ],
   "source": [
    "getIdx"
   ]
  },
  {
   "cell_type": "code",
   "execution_count": null,
   "metadata": {},
   "outputs": [],
   "source": []
  }
 ],
 "metadata": {
  "kernelspec": {
   "display_name": "Python 3",
   "language": "python",
   "name": "python3"
  },
  "language_info": {
   "codemirror_mode": {
    "name": "ipython",
    "version": 3
   },
   "file_extension": ".py",
   "mimetype": "text/x-python",
   "name": "python",
   "nbconvert_exporter": "python",
   "pygments_lexer": "ipython3",
   "version": "3.8.2"
  }
 },
 "nbformat": 4,
 "nbformat_minor": 4
}
